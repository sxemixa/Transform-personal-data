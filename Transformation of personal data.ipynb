{
 "cells": [
  {
   "cell_type": "markdown",
   "metadata": {
    "toc": true
   },
   "source": [
    "<h1>Содержание<span class=\"tocSkip\"></span></h1>\n",
    "<div class=\"toc\"><ul class=\"toc-item\"><li><span><a href=\"#Загрузка-данных\" data-toc-modified-id=\"Загрузка-данных-1\"><span class=\"toc-item-num\">1&nbsp;&nbsp;</span>Загрузка данных</a></span></li><li><span><a href=\"#Умножение-матриц\" data-toc-modified-id=\"Умножение-матриц-2\"><span class=\"toc-item-num\">2&nbsp;&nbsp;</span>Умножение матриц</a></span></li><li><span><a href=\"#Алгоритм-преобразования\" data-toc-modified-id=\"Алгоритм-преобразования-3\"><span class=\"toc-item-num\">3&nbsp;&nbsp;</span>Алгоритм преобразования</a></span></li><li><span><a href=\"#Проверка-алгоритма\" data-toc-modified-id=\"Проверка-алгоритма-4\"><span class=\"toc-item-num\">4&nbsp;&nbsp;</span>Проверка алгоритма</a></span><ul class=\"toc-item\"><li><span><a href=\"#Иследование-качества-модели-без-преобразования\" data-toc-modified-id=\"Иследование-качества-модели-без-преобразования-4.1\"><span class=\"toc-item-num\">4.1&nbsp;&nbsp;</span>Иследование качества модели без преобразования</a></span></li><li><span><a href=\"#Иследование-качества-модели-c-преобразованием\" data-toc-modified-id=\"Иследование-качества-модели-c-преобразованием-4.2\"><span class=\"toc-item-num\">4.2&nbsp;&nbsp;</span>Иследование качества модели c преобразованием</a></span></li></ul></li><li><span><a href=\"#Чек-лист-проверки\" data-toc-modified-id=\"Чек-лист-проверки-5\"><span class=\"toc-item-num\">5&nbsp;&nbsp;</span>Чек-лист проверки</a></span></li></ul></div>"
   ]
  },
  {
   "cell_type": "markdown",
   "metadata": {},
   "source": [
    "# Защита персональных данных клиентов"
   ]
  },
  {
   "cell_type": "markdown",
   "metadata": {},
   "source": [
    "Вам нужно защитить данные клиентов страховой компании «Хоть потоп». Разработайте такой метод преобразования данных, чтобы по ним было сложно восстановить персональную информацию. Обоснуйте корректность его работы.\n",
    "\n",
    "Нужно защитить данные, чтобы при преобразовании качество моделей машинного обучения не ухудшилось. Подбирать наилучшую модель не требуется."
   ]
  },
  {
   "cell_type": "markdown",
   "metadata": {},
   "source": [
    "# План работы\n",
    "1) Загрузите и изучите данные.\n",
    "\n",
    "2) Ответьте на вопрос и обоснуйте решение.\n",
    "- Признаки умножают на обратимую матрицу. Изменится ли качество линейной регрессии? (Её можно обучить заново.)\n",
    "        -a. Изменится. Приведите примеры матриц.\n",
    "        -b. Не изменится. Укажите, как связаны параметры линейной регрессии в исходной задаче и в преобразованной.\n",
    "        \n",
    "3) Предложите алгоритм преобразования данных для решения задачи. Обоснуйте, почему качество линейной регрессии не поменяется.\n",
    "\n",
    "4) Запрограммируйте этот алгоритм, применив матричные операции. Проверьте, что качество линейной регрессии из sklearn не отличается до и после преобразования. Примените метрику R2."
   ]
  },
  {
   "cell_type": "markdown",
   "metadata": {},
   "source": [
    "## Загрузка данных"
   ]
  },
  {
   "cell_type": "code",
   "execution_count": 1,
   "metadata": {},
   "outputs": [],
   "source": [
    "import pandas as pd\n",
    "import numpy as np\n",
    "from sklearn.metrics import r2_score\n",
    "from sklearn.linear_model import LinearRegression\n",
    "from sklearn.model_selection import train_test_split\n",
    "from sklearn.preprocessing import StandardScaler\n",
    "from sklearn.pipeline import Pipeline"
   ]
  },
  {
   "cell_type": "code",
   "execution_count": 2,
   "metadata": {},
   "outputs": [
    {
     "name": "stdout",
     "output_type": "stream",
     "text": [
      "<class 'pandas.core.frame.DataFrame'>\n",
      "RangeIndex: 5000 entries, 0 to 4999\n",
      "Data columns (total 5 columns):\n",
      " #   Column             Non-Null Count  Dtype  \n",
      "---  ------             --------------  -----  \n",
      " 0   Пол                5000 non-null   int64  \n",
      " 1   Возраст            5000 non-null   float64\n",
      " 2   Зарплата           5000 non-null   float64\n",
      " 3   Члены семьи        5000 non-null   int64  \n",
      " 4   Страховые выплаты  5000 non-null   int64  \n",
      "dtypes: float64(2), int64(3)\n",
      "memory usage: 195.4 KB\n"
     ]
    }
   ],
   "source": [
    "insurance_df = pd.read_csv('/datasets/insurance.csv')\n",
    "insurance_df.info()"
   ]
  },
  {
   "cell_type": "code",
   "execution_count": 3,
   "metadata": {},
   "outputs": [],
   "source": [
    "# Проверим себя и напишем функцию для определения уникальных значений\n",
    "def show_rows(data_frame):\n",
    "    for column in data_frame.columns:\n",
    "        print('Уникальные значения столбца', column)\n",
    "        print(data_frame[column].unique())\n",
    "    print('Количество пропусков в столбце')    \n",
    "    print(data_frame.isna().mean())"
   ]
  },
  {
   "cell_type": "code",
   "execution_count": 4,
   "metadata": {},
   "outputs": [
    {
     "name": "stdout",
     "output_type": "stream",
     "text": [
      "Уникальные значения столбца Пол\n",
      "[1 0]\n",
      "Уникальные значения столбца Возраст\n",
      "[41. 46. 29. 21. 28. 43. 39. 25. 36. 32. 38. 23. 40. 34. 26. 42. 27. 33.\n",
      " 47. 30. 19. 31. 22. 20. 24. 18. 37. 48. 45. 44. 52. 49. 35. 56. 65. 55.\n",
      " 57. 54. 50. 53. 51. 58. 59. 60. 61. 62.]\n",
      "Уникальные значения столбца Зарплата\n",
      "[49600. 38000. 21000. 41700. 26100. 41000. 39700. 38600. 49700. 51700.\n",
      " 36600. 29300. 39500. 55000. 43700. 23300. 48900. 33200. 36900. 43500.\n",
      " 36100. 26600. 48700. 40400. 38400. 34600. 34800. 36800. 42200. 46300.\n",
      " 30300. 51000. 28100. 64800. 30400. 45300. 38300. 49500. 19400. 40200.\n",
      " 31700. 69200. 33100. 31600. 34500. 38700. 39600. 42400. 34900. 30500.\n",
      " 24200. 49900. 14300. 47000. 44800. 43800. 42700. 35400. 57200. 29600.\n",
      " 37400. 48100. 33700. 61800. 39400. 15600. 52600. 37600. 52500. 32700.\n",
      " 51600. 60900. 41800. 47400. 26500. 45900. 35700. 34300. 26700. 25700.\n",
      " 33300. 31100. 31500. 42100. 37300. 42500. 27300. 46800. 33500. 44300.\n",
      " 41600. 53900. 40100. 44600. 45000. 32000. 38200. 33000. 38500. 51800.\n",
      " 33800. 46400. 43200. 31800. 50200. 35100. 30700. 45800. 49300. 42800.\n",
      " 33600. 50300. 34000. 36400. 44900. 43600. 54600. 52800. 29700. 39000.\n",
      " 44100. 31900. 37700. 35200. 43100. 51300. 47500. 40800. 26800. 64900.\n",
      " 35900. 31200. 39900. 43300. 33900. 40700. 44700. 53400. 30600. 56000.\n",
      " 35600. 55200. 40600. 48300. 50800. 41200. 44200. 44400. 40500. 39800.\n",
      " 16600. 48400. 25100. 23100. 32100. 31000. 42900. 46700. 26000. 55900.\n",
      " 52000. 41500. 49400. 60300. 45600. 49000. 37500. 21900. 45100. 47900.\n",
      " 54300. 32400. 41300. 44500. 23200. 37900. 48000. 52100. 45700. 29900.\n",
      " 42600. 45200. 36000. 46500. 23800. 30200. 24400. 32800. 29000. 43400.\n",
      " 51500. 61700. 45400. 50700. 36200. 41900. 27900. 47200. 48800. 55100.\n",
      " 48200. 35500. 35000. 43900. 40000. 22000. 40300. 36300. 49800. 25600.\n",
      " 42300. 54900. 25500. 32900. 36700. 38900. 24700. 28800. 22900. 47300.\n",
      " 14500. 28700. 44000. 34100. 53000. 59300. 28500. 47100. 41400. 58900.\n",
      " 17500. 54200. 43000. 29800. 20000. 13800. 27500. 67700. 28000. 37100.\n",
      "  8900. 14600. 56200. 38800. 27700. 50500. 58400. 34700. 34400. 49100.\n",
      " 50900. 28200. 61500. 32500. 25900.  9800. 28300. 41100. 62000. 32600.\n",
      " 37200. 53800. 24000. 53600. 54800. 59600. 20200. 21700. 29200. 38100.\n",
      " 20700. 32300. 21200. 62100. 54000. 24500. 51900. 47800. 56100. 55300.\n",
      " 58100. 28900. 39100. 58000. 27200. 24600. 30100. 57100. 60100. 22200.\n",
      " 47700. 24900. 37800. 52700. 34200. 18700. 42000. 26300. 22600. 30900.\n",
      " 35800. 30800. 51100. 53300. 46200. 24100. 54700. 51200. 62300. 51400.\n",
      " 40900. 23400. 35300. 55800. 33400. 21300. 30000. 56700. 46900.  5300.\n",
      " 39200. 57500. 31300. 53700. 21600. 50000. 36500. 16400. 15900. 65100.\n",
      " 59900. 63200. 26200. 61200. 48500. 32200. 29100. 50100. 22700. 28600.\n",
      " 23500. 23700. 19600. 17800. 50600. 57900. 22500. 22100. 58300. 64100.\n",
      " 25000. 60400. 59100. 37000. 62400. 29500. 25800. 25400. 26900. 21500.\n",
      " 52200. 46600. 57300. 46100. 19300. 18900. 31400. 28400. 29400. 17600.\n",
      " 13900. 52400. 11300. 46000. 60500. 58700. 58200. 24800. 63700. 60600.\n",
      " 20400. 26400. 55600. 57000. 45500. 48600. 57600. 52900. 62800. 17000.\n",
      " 56500. 52300. 18400. 63300. 12900. 27000. 55700. 39300. 27800. 18300.\n",
      " 56300. 59800. 24300. 14400. 13400. 17900. 47600. 54500. 54400. 23900.\n",
      " 13000. 19900. 55400. 22800. 61000. 57400. 23000. 20500. 53200. 18100.\n",
      " 25300. 59500. 18200. 50400. 21100. 20900. 27400. 17300. 60700. 70600.\n",
      " 17700. 19700. 49200. 63100. 59200. 14700. 53100. 21800. 68000. 16500.\n",
      " 71400. 10000. 55500. 54100. 56400. 20600. 66300. 18800. 11000. 66100.\n",
      " 27100. 57800. 53500. 19200. 58500. 64000. 63600. 23600. 25200. 19100.\n",
      " 18600. 57700. 62700. 56600. 21400. 58800. 68400. 17100. 13300. 68500.\n",
      " 56900. 64400. 27600. 67200. 16200. 58600. 62200. 16000. 79000. 22300.\n",
      " 11200. 71600. 61300. 70500. 67100. 59000. 13500. 16700. 15700. 60000.\n",
      " 17400. 63400. 61900. 65200. 62600. 14100. 20100. 63800. 15100. 70000.\n",
      " 60200. 20300. 65900. 15200. 63500. 13200. 68900. 12200.  6000. 74800.\n",
      " 59700. 10800. 19000. 10600. 69400. 15000. 75200. 62500. 16300. 20800.\n",
      "  7400. 65300. 61400. 56800.]\n",
      "Уникальные значения столбца Члены семьи\n",
      "[1 0 2 4 3 5 6]\n",
      "Уникальные значения столбца Страховые выплаты\n",
      "[0 1 2 3 5 4]\n",
      "Количество пропусков в столбце\n",
      "Пол                  0.0\n",
      "Возраст              0.0\n",
      "Зарплата             0.0\n",
      "Члены семьи          0.0\n",
      "Страховые выплаты    0.0\n",
      "dtype: float64\n"
     ]
    }
   ],
   "source": [
    "show_rows(insurance_df)"
   ]
  },
  {
   "cell_type": "code",
   "execution_count": 5,
   "metadata": {},
   "outputs": [
    {
     "data": {
      "text/html": [
       "<div>\n",
       "<style scoped>\n",
       "    .dataframe tbody tr th:only-of-type {\n",
       "        vertical-align: middle;\n",
       "    }\n",
       "\n",
       "    .dataframe tbody tr th {\n",
       "        vertical-align: top;\n",
       "    }\n",
       "\n",
       "    .dataframe thead th {\n",
       "        text-align: right;\n",
       "    }\n",
       "</style>\n",
       "<table border=\"1\" class=\"dataframe\">\n",
       "  <thead>\n",
       "    <tr style=\"text-align: right;\">\n",
       "      <th></th>\n",
       "      <th>Пол</th>\n",
       "      <th>Возраст</th>\n",
       "      <th>Зарплата</th>\n",
       "      <th>Члены семьи</th>\n",
       "      <th>Страховые выплаты</th>\n",
       "    </tr>\n",
       "  </thead>\n",
       "  <tbody>\n",
       "    <tr>\n",
       "      <th>0</th>\n",
       "      <td>1</td>\n",
       "      <td>41.0</td>\n",
       "      <td>49600.0</td>\n",
       "      <td>1</td>\n",
       "      <td>0</td>\n",
       "    </tr>\n",
       "    <tr>\n",
       "      <th>1</th>\n",
       "      <td>0</td>\n",
       "      <td>46.0</td>\n",
       "      <td>38000.0</td>\n",
       "      <td>1</td>\n",
       "      <td>1</td>\n",
       "    </tr>\n",
       "    <tr>\n",
       "      <th>2</th>\n",
       "      <td>0</td>\n",
       "      <td>29.0</td>\n",
       "      <td>21000.0</td>\n",
       "      <td>0</td>\n",
       "      <td>0</td>\n",
       "    </tr>\n",
       "  </tbody>\n",
       "</table>\n",
       "</div>"
      ],
      "text/plain": [
       "   Пол  Возраст  Зарплата  Члены семьи  Страховые выплаты\n",
       "0    1     41.0   49600.0            1                  0\n",
       "1    0     46.0   38000.0            1                  1\n",
       "2    0     29.0   21000.0            0                  0"
      ]
     },
     "execution_count": 5,
     "metadata": {},
     "output_type": "execute_result"
    }
   ],
   "source": [
    "insurance_df.head(3)"
   ]
  },
  {
   "cell_type": "markdown",
   "metadata": {},
   "source": [
    "**Вывод** Видим что в столбцах `Возраст` и `Зарплата` тип данных float, хотя значения целые, так что поменяем их для уменьшения памяти и быстродеятсвия программы."
   ]
  },
  {
   "cell_type": "code",
   "execution_count": 6,
   "metadata": {},
   "outputs": [],
   "source": [
    "insurance_df['Возраст'] = pd.to_numeric(insurance_df['Возраст'], downcast='integer')\n",
    "insurance_df['Зарплата'] = pd.to_numeric(insurance_df['Зарплата'], downcast='integer')"
   ]
  },
  {
   "cell_type": "code",
   "execution_count": 7,
   "metadata": {},
   "outputs": [],
   "source": [
    "#insurance_df.head(3)"
   ]
  },
  {
   "cell_type": "code",
   "execution_count": 8,
   "metadata": {},
   "outputs": [],
   "source": [
    "insurance_df[['Зарплата', 'Возраст']] = insurance_df[['Зарплата', 'Возраст']].astype('int')"
   ]
  },
  {
   "cell_type": "markdown",
   "metadata": {},
   "source": [
    "## Умножение матриц"
   ]
  },
  {
   "cell_type": "markdown",
   "metadata": {},
   "source": [
    "В этом задании вы можете записывать формулы в *Jupyter Notebook.*\n",
    "\n",
    "Чтобы записать формулу внутри текста, окружите её символами доллара \\\\$; если снаружи —  двойными символами \\\\$\\\\$. Эти формулы записываются на языке вёрстки *LaTeX.* \n",
    "\n",
    "Для примера мы записали формулы линейной регрессии. Можете их скопировать и отредактировать, чтобы решить задачу.\n",
    "\n",
    "Работать в *LaTeX* необязательно."
   ]
  },
  {
   "cell_type": "markdown",
   "metadata": {},
   "source": [
    "Обозначения:\n",
    "\n",
    "- $X$ — матрица признаков (нулевой столбец состоит из единиц)\n",
    "\n",
    "- $y$ — вектор целевого признака\n",
    "\n",
    "- $P$ — матрица, на которую умножаются признаки\n",
    "\n",
    "- $w$ — вектор весов линейной регрессии (нулевой элемент равен сдвигу)"
   ]
  },
  {
   "cell_type": "markdown",
   "metadata": {},
   "source": [
    "Предсказания:\n",
    "\n",
    "$$\n",
    "a = Xw\n",
    "$$\n",
    "\n",
    "Задача обучения:\n",
    "\n",
    "$$\n",
    "w = \\arg\\min_w MSE(Xw, y)\n",
    "$$\n",
    "\n",
    "Нам необхлдимо доказать что $$a = a_p$$\n",
    "следовательно должно получится $$Xw = PXw_p$$\n",
    "\n",
    "Формула обучения:\n",
    "\n",
    "\n",
    "$$\n",
    "a = Xw = XEw = XPP^{-1}w = (XP)P^{-1}w = (XP)w'\n",
    "$$\n",
    "\\\n",
    "$$\n",
    "w = (X^T X)^{-1} X^T y\n",
    "$$\n",
    "\\\n",
    "$$\n",
    "w' = ((XP)^T XP)^{-1} (XP)^T y\n",
    "$$\n",
    "$$\n",
    "w' = (P^T (X^T X) P)^{-1} (XP)^T y = (P^T (X^T X) P)^{-1} P^T X^T y = (X^TX)^{-1}(P^TP)^{-1}P^T X^T y = (X^TX)^{-1}P^{-1} (P^T)^{-1}P^T X^T y =(X^TX)^{-1}P^{-1} X^T y => w' = P^-1 w\n",
    "$$"
   ]
  },
  {
   "cell_type": "markdown",
   "metadata": {},
   "source": [
    "**Вывод** Значение предсказания не меняется если просходит перемножение признаков на обратимую матрицу"
   ]
  },
  {
   "cell_type": "markdown",
   "metadata": {},
   "source": [
    "**Вопрос:** Признаки умножают на обратимую матрицу. Изменится ли качество линейной регрессии?\n",
    "\n",
    "**Ответ:** Не изменится\n",
    "\n",
    "**Обоснование:** Приведено выше"
   ]
  },
  {
   "cell_type": "markdown",
   "metadata": {},
   "source": [
    "## Алгоритм преобразования"
   ]
  },
  {
   "cell_type": "markdown",
   "metadata": {},
   "source": [
    "**Алгоритм**\n",
    "\n",
    "Для защиты данных мы будем умножать матрицу признаков на обратимую матрицу, которая будет генерироваться случайно. Своего рода СМС-код при двухэтапной идентификации."
   ]
  },
  {
   "cell_type": "markdown",
   "metadata": {},
   "source": [
    "**Обоснование**\n",
    "![](https://pictures.s3.yandex.net/resources/b_1578838605.jpg)</div>"
   ]
  },
  {
   "cell_type": "markdown",
   "metadata": {},
   "source": [
    "## Проверка алгоритма"
   ]
  },
  {
   "cell_type": "markdown",
   "metadata": {},
   "source": [
    "### Иследование качества модели без преобразования"
   ]
  },
  {
   "cell_type": "code",
   "execution_count": 9,
   "metadata": {},
   "outputs": [],
   "source": [
    "# Выделим признаки и целевой признак\n",
    "features = insurance_df.drop('Страховые выплаты',axis=1)\n",
    "target = insurance_df['Страховые выплаты']"
   ]
  },
  {
   "cell_type": "code",
   "execution_count": 10,
   "metadata": {},
   "outputs": [],
   "source": [
    "# Создаем выборки обуч и тест\n",
    "features_train, features_test, target_train, target_test = train_test_split(\n",
    "    features, target, test_size=0.25, random_state=1515)"
   ]
  },
  {
   "cell_type": "code",
   "execution_count": 11,
   "metadata": {},
   "outputs": [
    {
     "name": "stdout",
     "output_type": "stream",
     "text": [
      "R2 = 0.4543201571260044\n"
     ]
    }
   ],
   "source": [
    "# Модель с исходными признаками без преобразования\n",
    "model = LinearRegression()\n",
    "model.fit(features_train, target_train)\n",
    "R2_LR_origin_data = r2_score(target_test, model.predict(features_test))\n",
    "print(\"R2 =\", R2_LR_origin_data)"
   ]
  },
  {
   "cell_type": "code",
   "execution_count": 12,
   "metadata": {},
   "outputs": [
    {
     "name": "stdout",
     "output_type": "stream",
     "text": [
      "R2 = 0.4543201571260026\n"
     ]
    }
   ],
   "source": [
    "# Модель с отмасштабированными признаками без преобразования\n",
    "regressor = LinearRegression()\n",
    "scaller = StandardScaler()\n",
    "pipeline = Pipeline([(\"standard_scaller\", scaller),(\"linear_regression\", regressor)])\n",
    "pipeline.fit(features_train, target_train)\n",
    "R2_LR_origin_data_scaled = r2_score(target_test, pipeline.predict(features_test))\n",
    "print(\"R2 =\", R2_LR_origin_data_scaled)"
   ]
  },
  {
   "cell_type": "markdown",
   "metadata": {},
   "source": [
    "Видим что качество модели не меняется (в самом конце есть небольшое различие, откуда оно?. Почитал в Слаке, что отличие после 12 знака \"незначимо\""
   ]
  },
  {
   "cell_type": "markdown",
   "metadata": {},
   "source": [
    "### Иследование качества модели c преобразованием"
   ]
  },
  {
   "cell_type": "code",
   "execution_count": 13,
   "metadata": {},
   "outputs": [
    {
     "data": {
      "text/plain": [
       "array([[ -7.71428571,  11.14285714,  -5.71428571,   8.14285714],\n",
       "       [ -9.        ,  13.        ,  -7.        ,  10.        ],\n",
       "       [  5.28571429,  -7.85714286,   4.28571429,  -5.85714286],\n",
       "       [ 12.        , -17.        ,   9.        , -13.        ]])"
      ]
     },
     "execution_count": 13,
     "metadata": {},
     "output_type": "execute_result"
    }
   ],
   "source": [
    "# Создадим рандомную матрицу-ключ\n",
    "n = features.shape[1]\n",
    "crypto_matrix = np.random.randint(1,10, (n,n))\n",
    "#Признаки защищенные\n",
    "crypto_features = features\n",
    "crypted_features = crypto_features @ crypto_matrix\n",
    "np.linalg.inv(crypto_matrix)"
   ]
  },
  {
   "cell_type": "code",
   "execution_count": 14,
   "metadata": {},
   "outputs": [
    {
     "data": {
      "text/html": [
       "<div>\n",
       "<style scoped>\n",
       "    .dataframe tbody tr th:only-of-type {\n",
       "        vertical-align: middle;\n",
       "    }\n",
       "\n",
       "    .dataframe tbody tr th {\n",
       "        vertical-align: top;\n",
       "    }\n",
       "\n",
       "    .dataframe thead th {\n",
       "        text-align: right;\n",
       "    }\n",
       "</style>\n",
       "<table border=\"1\" class=\"dataframe\">\n",
       "  <thead>\n",
       "    <tr style=\"text-align: right;\">\n",
       "      <th></th>\n",
       "      <th>Пол</th>\n",
       "      <th>Возраст</th>\n",
       "      <th>Зарплата</th>\n",
       "      <th>Члены семьи</th>\n",
       "    </tr>\n",
       "  </thead>\n",
       "  <tbody>\n",
       "    <tr>\n",
       "      <th>0</th>\n",
       "      <td>1</td>\n",
       "      <td>41</td>\n",
       "      <td>49600</td>\n",
       "      <td>1</td>\n",
       "    </tr>\n",
       "    <tr>\n",
       "      <th>1</th>\n",
       "      <td>0</td>\n",
       "      <td>46</td>\n",
       "      <td>38000</td>\n",
       "      <td>1</td>\n",
       "    </tr>\n",
       "    <tr>\n",
       "      <th>2</th>\n",
       "      <td>0</td>\n",
       "      <td>29</td>\n",
       "      <td>21000</td>\n",
       "      <td>0</td>\n",
       "    </tr>\n",
       "    <tr>\n",
       "      <th>3</th>\n",
       "      <td>0</td>\n",
       "      <td>21</td>\n",
       "      <td>41700</td>\n",
       "      <td>2</td>\n",
       "    </tr>\n",
       "    <tr>\n",
       "      <th>4</th>\n",
       "      <td>1</td>\n",
       "      <td>28</td>\n",
       "      <td>26100</td>\n",
       "      <td>0</td>\n",
       "    </tr>\n",
       "  </tbody>\n",
       "</table>\n",
       "</div>"
      ],
      "text/plain": [
       "   Пол  Возраст  Зарплата  Члены семьи\n",
       "0    1       41     49600            1\n",
       "1    0       46     38000            1\n",
       "2    0       29     21000            0\n",
       "3    0       21     41700            2\n",
       "4    1       28     26100            0"
      ]
     },
     "metadata": {},
     "output_type": "display_data"
    },
    {
     "data": {
      "text/html": [
       "<div>\n",
       "<style scoped>\n",
       "    .dataframe tbody tr th:only-of-type {\n",
       "        vertical-align: middle;\n",
       "    }\n",
       "\n",
       "    .dataframe tbody tr th {\n",
       "        vertical-align: top;\n",
       "    }\n",
       "\n",
       "    .dataframe thead th {\n",
       "        text-align: right;\n",
       "    }\n",
       "</style>\n",
       "<table border=\"1\" class=\"dataframe\">\n",
       "  <thead>\n",
       "    <tr style=\"text-align: right;\">\n",
       "      <th></th>\n",
       "      <th>0</th>\n",
       "      <th>1</th>\n",
       "      <th>2</th>\n",
       "      <th>3</th>\n",
       "    </tr>\n",
       "  </thead>\n",
       "  <tbody>\n",
       "    <tr>\n",
       "      <th>0</th>\n",
       "      <td>248168</td>\n",
       "      <td>446622</td>\n",
       "      <td>446533</td>\n",
       "      <td>297816</td>\n",
       "    </tr>\n",
       "    <tr>\n",
       "      <th>1</th>\n",
       "      <td>190185</td>\n",
       "      <td>342238</td>\n",
       "      <td>342144</td>\n",
       "      <td>228234</td>\n",
       "    </tr>\n",
       "    <tr>\n",
       "      <th>2</th>\n",
       "      <td>105116</td>\n",
       "      <td>189145</td>\n",
       "      <td>189087</td>\n",
       "      <td>126145</td>\n",
       "    </tr>\n",
       "    <tr>\n",
       "      <th>3</th>\n",
       "      <td>208586</td>\n",
       "      <td>375421</td>\n",
       "      <td>375375</td>\n",
       "      <td>250313</td>\n",
       "    </tr>\n",
       "    <tr>\n",
       "      <th>4</th>\n",
       "      <td>130615</td>\n",
       "      <td>235049</td>\n",
       "      <td>234988</td>\n",
       "      <td>156747</td>\n",
       "    </tr>\n",
       "  </tbody>\n",
       "</table>\n",
       "</div>"
      ],
      "text/plain": [
       "        0       1       2       3\n",
       "0  248168  446622  446533  297816\n",
       "1  190185  342238  342144  228234\n",
       "2  105116  189145  189087  126145\n",
       "3  208586  375421  375375  250313\n",
       "4  130615  235049  234988  156747"
      ]
     },
     "metadata": {},
     "output_type": "display_data"
    },
    {
     "data": {
      "text/plain": [
       "array([[3, 9, 4, 7],\n",
       "       [4, 5, 3, 5],\n",
       "       [5, 9, 9, 6],\n",
       "       [1, 8, 6, 4]])"
      ]
     },
     "execution_count": 14,
     "metadata": {},
     "output_type": "execute_result"
    }
   ],
   "source": [
    "display(features.head())\n",
    "display(crypted_features.head())\n",
    "crypto_matrix"
   ]
  },
  {
   "cell_type": "markdown",
   "metadata": {},
   "source": [
    "Видим что вместо оригинальных данных теперь находятся неопнятные числа, далее также разобьем данные на трен и тест выборку и проверим качество"
   ]
  },
  {
   "cell_type": "code",
   "execution_count": 15,
   "metadata": {},
   "outputs": [],
   "source": [
    "features_train, features_test, target_train, target_test = train_test_split(\n",
    "    crypted_features, target, test_size=0.25, random_state=1515)"
   ]
  },
  {
   "cell_type": "code",
   "execution_count": 16,
   "metadata": {},
   "outputs": [
    {
     "name": "stdout",
     "output_type": "stream",
     "text": [
      "R2 = 0.45432015712461515\n"
     ]
    }
   ],
   "source": [
    "# Модель с исходными признаками без преобразования\n",
    "model = LinearRegression()\n",
    "model.fit(features_train, target_train)\n",
    "R2_LR_cipher_data = r2_score(target_test, model.predict(features_test))\n",
    "print(\"R2 =\", R2_LR_cipher_data)"
   ]
  },
  {
   "cell_type": "code",
   "execution_count": 17,
   "metadata": {},
   "outputs": [
    {
     "name": "stdout",
     "output_type": "stream",
     "text": [
      "R2 = 0.45432015712642493\n"
     ]
    }
   ],
   "source": [
    "# Модель с отмасштабированными признаками без преобразования\n",
    "regressor = LinearRegression()\n",
    "scaller = StandardScaler()\n",
    "pipeline = Pipeline([(\"standard_scaller\", scaller),(\"linear_regression\", regressor)])\n",
    "pipeline.fit(features_train, target_train)\n",
    "R2_LR_cipher_data_scaled = r2_score(target_test, pipeline.predict(features_test))\n",
    "print(\"R2 =\", R2_LR_cipher_data_scaled)"
   ]
  },
  {
   "cell_type": "markdown",
   "metadata": {},
   "source": [
    "# Вывод"
   ]
  },
  {
   "cell_type": "code",
   "execution_count": 18,
   "metadata": {},
   "outputs": [
    {
     "data": {
      "text/html": [
       "<div>\n",
       "<style scoped>\n",
       "    .dataframe tbody tr th:only-of-type {\n",
       "        vertical-align: middle;\n",
       "    }\n",
       "\n",
       "    .dataframe tbody tr th {\n",
       "        vertical-align: top;\n",
       "    }\n",
       "\n",
       "    .dataframe thead th {\n",
       "        text-align: right;\n",
       "    }\n",
       "</style>\n",
       "<table border=\"1\" class=\"dataframe\">\n",
       "  <thead>\n",
       "    <tr style=\"text-align: right;\">\n",
       "      <th></th>\n",
       "      <th>R2</th>\n",
       "    </tr>\n",
       "  </thead>\n",
       "  <tbody>\n",
       "    <tr>\n",
       "      <th>Качество на исходных данных</th>\n",
       "      <td>0.45432</td>\n",
       "    </tr>\n",
       "    <tr>\n",
       "      <th>Качество на исходных данных c масштабом</th>\n",
       "      <td>0.45432</td>\n",
       "    </tr>\n",
       "    <tr>\n",
       "      <th>Качество на преобразованных признаках</th>\n",
       "      <td>0.45432</td>\n",
       "    </tr>\n",
       "    <tr>\n",
       "      <th>ЛКачество на преобразованных признаках с масштабом</th>\n",
       "      <td>0.45432</td>\n",
       "    </tr>\n",
       "  </tbody>\n",
       "</table>\n",
       "</div>"
      ],
      "text/plain": [
       "                                                         R2\n",
       "Качество на исходных данных                         0.45432\n",
       "Качество на исходных данных c масштабом             0.45432\n",
       "Качество на преобразованных признаках               0.45432\n",
       "ЛКачество на преобразованных признаках с масштабом  0.45432"
      ]
     },
     "execution_count": 18,
     "metadata": {},
     "output_type": "execute_result"
    }
   ],
   "source": [
    "result = pd.DataFrame(data= [R2_LR_origin_data_scaled,\n",
    "                      R2_LR_origin_data,\n",
    "                      R2_LR_cipher_data,\n",
    "                      R2_LR_cipher_data_scaled], \n",
    "                      columns=['R2'], \n",
    "                      index=['Качество на исходных данных',\n",
    "                            'Качество на исходных данных c масштабом',\n",
    "                            'Качество на преобразованных признаках',\n",
    "                            'ЛКачество на преобразованных признаках с масштабом',])\n",
    "result"
   ]
  },
  {
   "cell_type": "markdown",
   "metadata": {},
   "source": [
    "По итогу было выполнено:\n",
    "\n",
    "1) Данные были загружены и проанализированы\n",
    "\n",
    "2) Был разработан алгоритм преобразования данных и применен на данных.\n",
    "\n",
    "3)  **Качество линейной регресии не изменилось от использования исxодной матрицы и исходной матрицы, умноженную на обратимую** Это мы смогли доказать по формуле, а также практическим путем (была исследована метрика R2)."
   ]
  },
  {
   "cell_type": "markdown",
   "metadata": {},
   "source": [
    "## Чек-лист проверки"
   ]
  },
  {
   "cell_type": "markdown",
   "metadata": {},
   "source": [
    "Поставьте 'x' в выполненных пунктах. Далее нажмите Shift+Enter."
   ]
  },
  {
   "cell_type": "markdown",
   "metadata": {},
   "source": [
    "- [x]  Jupyter Notebook открыт\n",
    "- [x]  Весь код выполняется без ошибок\n",
    "- [x]  Ячейки с кодом расположены в порядке исполнения\n",
    "- [x]  Выполнен шаг 1: данные загружены\n",
    "- [x]  Выполнен шаг 2: получен ответ на вопрос об умножении матриц\n",
    "    - [x]  Указан правильный вариант ответа\n",
    "    - [x]  Вариант обоснован\n",
    "- [x]  Выполнен шаг 3: предложен алгоритм преобразования\n",
    "    - [x]  Алгоритм описан\n",
    "    - [x]  Алгоритм обоснован\n",
    "- [x]  Выполнен шаг 4: алгоритм проверен\n",
    "    - [x]  Алгоритм реализован\n",
    "    - [x]  Проведено сравнение качества моделей до и после преобразования"
   ]
  }
 ],
 "metadata": {
  "ExecuteTimeLog": [
   {
    "duration": 1301,
    "start_time": "2022-05-05T10:44:23.106Z"
   },
   {
    "duration": 36,
    "start_time": "2022-05-05T10:44:52.442Z"
   },
   {
    "duration": 4,
    "start_time": "2022-05-05T10:47:07.866Z"
   },
   {
    "duration": 13,
    "start_time": "2022-05-05T10:47:17.386Z"
   },
   {
    "duration": 3,
    "start_time": "2022-05-05T10:47:37.568Z"
   },
   {
    "duration": 103,
    "start_time": "2022-05-05T10:52:31.604Z"
   },
   {
    "duration": 9,
    "start_time": "2022-05-05T10:52:38.505Z"
   },
   {
    "duration": 12,
    "start_time": "2022-05-05T10:52:51.084Z"
   },
   {
    "duration": 10,
    "start_time": "2022-05-05T10:53:12.703Z"
   },
   {
    "duration": 10,
    "start_time": "2022-05-05T10:54:22.396Z"
   },
   {
    "duration": 7,
    "start_time": "2022-05-05T10:54:36.004Z"
   },
   {
    "duration": 15,
    "start_time": "2022-05-05T11:40:25.265Z"
   },
   {
    "duration": 7,
    "start_time": "2022-05-05T11:40:29.462Z"
   },
   {
    "duration": 11,
    "start_time": "2022-05-05T11:40:37.025Z"
   },
   {
    "duration": 1296,
    "start_time": "2022-05-05T11:41:04.595Z"
   },
   {
    "duration": 78,
    "start_time": "2022-05-05T11:41:05.893Z"
   },
   {
    "duration": 3,
    "start_time": "2022-05-05T11:41:05.975Z"
   },
   {
    "duration": 16,
    "start_time": "2022-05-05T11:41:05.980Z"
   },
   {
    "duration": 15,
    "start_time": "2022-05-05T11:41:05.998Z"
   },
   {
    "duration": 20,
    "start_time": "2022-05-05T11:41:06.015Z"
   },
   {
    "duration": 9,
    "start_time": "2022-05-05T11:41:06.037Z"
   },
   {
    "duration": 6,
    "start_time": "2022-05-05T11:41:27.521Z"
   },
   {
    "duration": 8,
    "start_time": "2022-05-05T11:41:28.209Z"
   },
   {
    "duration": 107,
    "start_time": "2022-05-05T11:41:45.874Z"
   },
   {
    "duration": 13,
    "start_time": "2022-05-05T11:41:50.161Z"
   },
   {
    "duration": 12,
    "start_time": "2022-05-05T11:44:06.409Z"
   },
   {
    "duration": 6,
    "start_time": "2022-05-05T11:44:06.897Z"
   },
   {
    "duration": 5,
    "start_time": "2022-05-05T11:44:07.353Z"
   },
   {
    "duration": 9,
    "start_time": "2022-05-05T11:44:13.729Z"
   },
   {
    "duration": 8,
    "start_time": "2022-05-05T11:44:24.770Z"
   },
   {
    "duration": 2,
    "start_time": "2022-05-05T11:46:33.578Z"
   },
   {
    "duration": 7,
    "start_time": "2022-05-05T11:48:43.034Z"
   },
   {
    "duration": 2,
    "start_time": "2022-05-05T11:48:43.626Z"
   },
   {
    "duration": 4,
    "start_time": "2022-05-05T11:51:39.683Z"
   },
   {
    "duration": 19,
    "start_time": "2022-05-05T11:52:28.115Z"
   },
   {
    "duration": 15,
    "start_time": "2022-05-05T11:52:39.062Z"
   },
   {
    "duration": 4,
    "start_time": "2022-05-05T12:03:40.813Z"
   },
   {
    "duration": 4,
    "start_time": "2022-05-05T12:04:05.662Z"
   },
   {
    "duration": 15,
    "start_time": "2022-05-05T12:04:14.542Z"
   },
   {
    "duration": 11,
    "start_time": "2022-05-05T12:05:21.629Z"
   },
   {
    "duration": 15,
    "start_time": "2022-05-05T12:15:32.022Z"
   },
   {
    "duration": 52,
    "start_time": "2022-05-05T12:15:41.585Z"
   },
   {
    "duration": 5,
    "start_time": "2022-05-05T12:15:47.954Z"
   },
   {
    "duration": 16,
    "start_time": "2022-05-05T12:15:48.608Z"
   },
   {
    "duration": 11,
    "start_time": "2022-05-05T12:15:57.032Z"
   },
   {
    "duration": 5,
    "start_time": "2022-05-05T12:16:01.312Z"
   },
   {
    "duration": 10,
    "start_time": "2022-05-05T12:16:01.617Z"
   },
   {
    "duration": 11,
    "start_time": "2022-05-05T12:18:59.577Z"
   },
   {
    "duration": 10,
    "start_time": "2022-05-05T12:19:00.025Z"
   },
   {
    "duration": 9,
    "start_time": "2022-05-05T12:19:15.899Z"
   },
   {
    "duration": 102,
    "start_time": "2022-05-05T12:21:12.234Z"
   },
   {
    "duration": 40,
    "start_time": "2022-05-05T12:21:32.595Z"
   },
   {
    "duration": 9,
    "start_time": "2022-05-07T15:12:12.896Z"
   },
   {
    "duration": 60,
    "start_time": "2022-05-07T15:12:14.281Z"
   },
   {
    "duration": 6,
    "start_time": "2022-05-07T15:12:15.059Z"
   },
   {
    "duration": 1181,
    "start_time": "2022-05-07T15:12:19.532Z"
   },
   {
    "duration": 29,
    "start_time": "2022-05-07T15:12:20.720Z"
   },
   {
    "duration": 4,
    "start_time": "2022-05-07T15:12:20.751Z"
   },
   {
    "duration": 15,
    "start_time": "2022-05-07T15:12:20.757Z"
   },
   {
    "duration": 22,
    "start_time": "2022-05-07T15:12:20.775Z"
   },
   {
    "duration": 22,
    "start_time": "2022-05-07T15:12:20.799Z"
   },
   {
    "duration": 5,
    "start_time": "2022-05-07T15:12:20.823Z"
   },
   {
    "duration": 109,
    "start_time": "2022-05-07T16:05:28.136Z"
   },
   {
    "duration": 1126,
    "start_time": "2022-05-07T16:05:50.943Z"
   },
   {
    "duration": 26,
    "start_time": "2022-05-07T16:05:52.071Z"
   },
   {
    "duration": 3,
    "start_time": "2022-05-07T16:05:52.099Z"
   },
   {
    "duration": 20,
    "start_time": "2022-05-07T16:05:52.104Z"
   },
   {
    "duration": 18,
    "start_time": "2022-05-07T16:05:52.127Z"
   },
   {
    "duration": 6,
    "start_time": "2022-05-07T16:05:52.147Z"
   },
   {
    "duration": 3,
    "start_time": "2022-05-07T16:05:52.155Z"
   },
   {
    "duration": 142,
    "start_time": "2022-05-07T16:05:52.159Z"
   },
   {
    "duration": 13,
    "start_time": "2022-05-07T16:07:00.016Z"
   },
   {
    "duration": 12,
    "start_time": "2022-05-07T16:07:01.925Z"
   },
   {
    "duration": 6,
    "start_time": "2022-05-07T16:07:10.339Z"
   },
   {
    "duration": 8,
    "start_time": "2022-05-07T16:07:10.896Z"
   },
   {
    "duration": 12,
    "start_time": "2022-05-07T16:08:23.774Z"
   },
   {
    "duration": 13,
    "start_time": "2022-05-07T16:08:57.044Z"
   },
   {
    "duration": 13,
    "start_time": "2022-05-07T16:09:29.001Z"
   },
   {
    "duration": 17,
    "start_time": "2022-05-07T16:09:45.530Z"
   },
   {
    "duration": 10,
    "start_time": "2022-05-07T16:10:08.449Z"
   },
   {
    "duration": 13,
    "start_time": "2022-05-07T16:10:08.899Z"
   },
   {
    "duration": 12,
    "start_time": "2022-05-07T16:25:33.308Z"
   },
   {
    "duration": 3,
    "start_time": "2022-05-07T16:25:45.684Z"
   },
   {
    "duration": 4,
    "start_time": "2022-05-07T16:30:04.356Z"
   },
   {
    "duration": 19,
    "start_time": "2022-05-07T16:30:34.388Z"
   },
   {
    "duration": 18,
    "start_time": "2022-05-07T16:31:24.275Z"
   },
   {
    "duration": 4,
    "start_time": "2022-05-07T16:35:20.641Z"
   },
   {
    "duration": 9,
    "start_time": "2022-05-07T16:35:38.504Z"
   },
   {
    "duration": 5,
    "start_time": "2022-05-07T16:35:47.587Z"
   },
   {
    "duration": 8,
    "start_time": "2022-05-07T16:35:47.945Z"
   },
   {
    "duration": 12,
    "start_time": "2022-05-07T16:36:33.436Z"
   },
   {
    "duration": 10,
    "start_time": "2022-05-07T16:37:30.705Z"
   },
   {
    "duration": 1060,
    "start_time": "2022-05-07T16:41:25.276Z"
   },
   {
    "duration": 19,
    "start_time": "2022-05-07T16:41:26.339Z"
   },
   {
    "duration": 4,
    "start_time": "2022-05-07T16:41:26.360Z"
   },
   {
    "duration": 15,
    "start_time": "2022-05-07T16:41:26.365Z"
   },
   {
    "duration": 28,
    "start_time": "2022-05-07T16:41:26.382Z"
   },
   {
    "duration": 8,
    "start_time": "2022-05-07T16:41:26.411Z"
   },
   {
    "duration": 2,
    "start_time": "2022-05-07T16:41:26.424Z"
   },
   {
    "duration": 5,
    "start_time": "2022-05-07T16:41:26.428Z"
   },
   {
    "duration": 6,
    "start_time": "2022-05-07T16:41:26.435Z"
   },
   {
    "duration": 10,
    "start_time": "2022-05-07T16:41:26.443Z"
   },
   {
    "duration": 12,
    "start_time": "2022-05-07T16:41:26.455Z"
   },
   {
    "duration": 39,
    "start_time": "2022-05-07T16:41:26.469Z"
   },
   {
    "duration": 27,
    "start_time": "2022-05-07T16:41:26.509Z"
   },
   {
    "duration": 5,
    "start_time": "2022-05-07T16:41:26.538Z"
   },
   {
    "duration": 10,
    "start_time": "2022-05-07T16:41:26.544Z"
   },
   {
    "duration": 10,
    "start_time": "2022-05-07T16:41:26.556Z"
   },
   {
    "duration": 7,
    "start_time": "2022-05-07T16:41:26.568Z"
   },
   {
    "duration": 12,
    "start_time": "2022-05-07T16:41:41.013Z"
   },
   {
    "duration": 10,
    "start_time": "2022-05-07T16:42:32.212Z"
   },
   {
    "duration": 1147,
    "start_time": "2022-05-07T16:42:36.603Z"
   },
   {
    "duration": 20,
    "start_time": "2022-05-07T16:42:37.752Z"
   },
   {
    "duration": 3,
    "start_time": "2022-05-07T16:42:37.774Z"
   },
   {
    "duration": 14,
    "start_time": "2022-05-07T16:42:37.779Z"
   },
   {
    "duration": 18,
    "start_time": "2022-05-07T16:42:37.807Z"
   },
   {
    "duration": 5,
    "start_time": "2022-05-07T16:42:37.827Z"
   },
   {
    "duration": 3,
    "start_time": "2022-05-07T16:42:37.834Z"
   },
   {
    "duration": 6,
    "start_time": "2022-05-07T16:42:37.838Z"
   },
   {
    "duration": 6,
    "start_time": "2022-05-07T16:42:37.846Z"
   },
   {
    "duration": 12,
    "start_time": "2022-05-07T16:42:37.854Z"
   },
   {
    "duration": 47,
    "start_time": "2022-05-07T16:42:37.868Z"
   },
   {
    "duration": 4,
    "start_time": "2022-05-07T16:42:37.917Z"
   },
   {
    "duration": 21,
    "start_time": "2022-05-07T16:42:37.924Z"
   },
   {
    "duration": 5,
    "start_time": "2022-05-07T16:42:37.948Z"
   },
   {
    "duration": 9,
    "start_time": "2022-05-07T16:42:37.955Z"
   },
   {
    "duration": 12,
    "start_time": "2022-05-07T16:42:37.965Z"
   },
   {
    "duration": 11,
    "start_time": "2022-05-07T16:42:38.019Z"
   },
   {
    "duration": 1226,
    "start_time": "2022-05-07T16:43:12.790Z"
   },
   {
    "duration": 20,
    "start_time": "2022-05-07T16:43:14.022Z"
   },
   {
    "duration": 4,
    "start_time": "2022-05-07T16:43:14.044Z"
   },
   {
    "duration": 16,
    "start_time": "2022-05-07T16:43:14.050Z"
   },
   {
    "duration": 16,
    "start_time": "2022-05-07T16:43:14.069Z"
   },
   {
    "duration": 31,
    "start_time": "2022-05-07T16:43:14.087Z"
   },
   {
    "duration": 9,
    "start_time": "2022-05-07T16:43:14.120Z"
   },
   {
    "duration": 6,
    "start_time": "2022-05-07T16:43:14.131Z"
   },
   {
    "duration": 9,
    "start_time": "2022-05-07T16:43:14.139Z"
   },
   {
    "duration": 11,
    "start_time": "2022-05-07T16:43:14.150Z"
   },
   {
    "duration": 14,
    "start_time": "2022-05-07T16:43:14.164Z"
   },
   {
    "duration": 34,
    "start_time": "2022-05-07T16:43:14.180Z"
   },
   {
    "duration": 22,
    "start_time": "2022-05-07T16:43:14.215Z"
   },
   {
    "duration": 6,
    "start_time": "2022-05-07T16:43:14.241Z"
   },
   {
    "duration": 11,
    "start_time": "2022-05-07T16:43:14.249Z"
   },
   {
    "duration": 15,
    "start_time": "2022-05-07T16:43:14.262Z"
   },
   {
    "duration": 12,
    "start_time": "2022-05-07T16:43:14.316Z"
   },
   {
    "duration": 1842,
    "start_time": "2022-05-08T07:50:39.320Z"
   },
   {
    "duration": 36,
    "start_time": "2022-05-08T07:50:41.165Z"
   },
   {
    "duration": 9,
    "start_time": "2022-05-08T07:50:41.204Z"
   },
   {
    "duration": 32,
    "start_time": "2022-05-08T07:50:41.215Z"
   },
   {
    "duration": 22,
    "start_time": "2022-05-08T07:50:41.250Z"
   },
   {
    "duration": 7,
    "start_time": "2022-05-08T07:50:41.274Z"
   },
   {
    "duration": 34,
    "start_time": "2022-05-08T07:50:41.297Z"
   },
   {
    "duration": 13,
    "start_time": "2022-05-08T07:50:41.333Z"
   },
   {
    "duration": 11,
    "start_time": "2022-05-08T07:50:41.347Z"
   },
   {
    "duration": 17,
    "start_time": "2022-05-08T07:50:41.360Z"
   },
   {
    "duration": 30,
    "start_time": "2022-05-08T07:50:41.378Z"
   },
   {
    "duration": 32,
    "start_time": "2022-05-08T07:50:41.411Z"
   },
   {
    "duration": 20,
    "start_time": "2022-05-08T07:50:41.445Z"
   },
   {
    "duration": 33,
    "start_time": "2022-05-08T07:50:41.469Z"
   },
   {
    "duration": 25,
    "start_time": "2022-05-08T07:50:41.505Z"
   },
   {
    "duration": 19,
    "start_time": "2022-05-08T07:50:41.532Z"
   },
   {
    "duration": 27,
    "start_time": "2022-05-08T07:50:41.554Z"
   },
   {
    "duration": 16,
    "start_time": "2022-05-08T07:50:41.583Z"
   },
   {
    "duration": 11,
    "start_time": "2022-05-08T07:52:38.488Z"
   },
   {
    "duration": 17,
    "start_time": "2022-05-08T07:52:40.162Z"
   },
   {
    "duration": 4,
    "start_time": "2022-05-08T07:55:14.245Z"
   },
   {
    "duration": 44,
    "start_time": "2022-05-08T07:55:17.808Z"
   },
   {
    "duration": 6,
    "start_time": "2022-05-08T07:55:21.765Z"
   },
   {
    "duration": 31,
    "start_time": "2022-05-08T07:55:30.591Z"
   },
   {
    "duration": 51,
    "start_time": "2022-05-09T16:29:21.732Z"
   },
   {
    "duration": 1220,
    "start_time": "2022-05-09T16:29:27.264Z"
   },
   {
    "duration": 26,
    "start_time": "2022-05-09T16:29:28.486Z"
   },
   {
    "duration": 8,
    "start_time": "2022-05-09T16:29:28.514Z"
   },
   {
    "duration": 16,
    "start_time": "2022-05-09T16:29:28.524Z"
   },
   {
    "duration": 20,
    "start_time": "2022-05-09T16:29:28.543Z"
   },
   {
    "duration": 6,
    "start_time": "2022-05-09T16:29:28.566Z"
   },
   {
    "duration": 4,
    "start_time": "2022-05-09T16:29:28.574Z"
   },
   {
    "duration": 44,
    "start_time": "2022-05-09T16:29:28.580Z"
   },
   {
    "duration": 5,
    "start_time": "2022-05-09T16:29:28.625Z"
   },
   {
    "duration": 9,
    "start_time": "2022-05-09T16:29:28.632Z"
   },
   {
    "duration": 10,
    "start_time": "2022-05-09T16:29:28.642Z"
   },
   {
    "duration": 12,
    "start_time": "2022-05-09T16:29:28.653Z"
   },
   {
    "duration": 334,
    "start_time": "2022-05-09T16:29:28.667Z"
   },
   {
    "duration": 0,
    "start_time": "2022-05-09T16:29:29.003Z"
   },
   {
    "duration": 0,
    "start_time": "2022-05-09T16:29:29.004Z"
   },
   {
    "duration": 0,
    "start_time": "2022-05-09T16:29:29.005Z"
   },
   {
    "duration": 0,
    "start_time": "2022-05-09T16:29:29.006Z"
   },
   {
    "duration": 0,
    "start_time": "2022-05-09T16:29:29.008Z"
   },
   {
    "duration": 7,
    "start_time": "2022-05-09T16:29:56.760Z"
   },
   {
    "duration": 178,
    "start_time": "2022-05-09T16:30:12.685Z"
   },
   {
    "duration": 1254,
    "start_time": "2022-05-09T16:30:19.539Z"
   },
   {
    "duration": 26,
    "start_time": "2022-05-09T16:30:20.796Z"
   },
   {
    "duration": 4,
    "start_time": "2022-05-09T16:30:20.827Z"
   },
   {
    "duration": 19,
    "start_time": "2022-05-09T16:30:20.835Z"
   },
   {
    "duration": 15,
    "start_time": "2022-05-09T16:30:20.856Z"
   },
   {
    "duration": 7,
    "start_time": "2022-05-09T16:30:20.875Z"
   },
   {
    "duration": 5,
    "start_time": "2022-05-09T16:30:20.884Z"
   },
   {
    "duration": 5,
    "start_time": "2022-05-09T16:30:20.923Z"
   },
   {
    "duration": 9,
    "start_time": "2022-05-09T16:30:20.931Z"
   },
   {
    "duration": 15,
    "start_time": "2022-05-09T16:30:20.942Z"
   },
   {
    "duration": 11,
    "start_time": "2022-05-09T16:30:20.959Z"
   },
   {
    "duration": 11,
    "start_time": "2022-05-09T16:30:20.972Z"
   },
   {
    "duration": 40,
    "start_time": "2022-05-09T16:30:20.986Z"
   },
   {
    "duration": 97,
    "start_time": "2022-05-09T16:30:21.029Z"
   },
   {
    "duration": 6,
    "start_time": "2022-05-09T16:30:21.128Z"
   },
   {
    "duration": 9,
    "start_time": "2022-05-09T16:30:21.135Z"
   },
   {
    "duration": 15,
    "start_time": "2022-05-09T16:30:21.146Z"
   },
   {
    "duration": 9,
    "start_time": "2022-05-09T16:30:21.163Z"
   },
   {
    "duration": 128,
    "start_time": "2022-05-10T11:31:25.115Z"
   },
   {
    "duration": 107,
    "start_time": "2022-05-11T12:48:48.213Z"
   },
   {
    "duration": 1117,
    "start_time": "2022-05-11T12:48:55.235Z"
   },
   {
    "duration": 54,
    "start_time": "2022-05-11T12:48:56.354Z"
   },
   {
    "duration": 3,
    "start_time": "2022-05-11T12:48:56.409Z"
   },
   {
    "duration": 16,
    "start_time": "2022-05-11T12:48:56.414Z"
   },
   {
    "duration": 20,
    "start_time": "2022-05-11T12:48:56.432Z"
   },
   {
    "duration": 6,
    "start_time": "2022-05-11T12:48:56.454Z"
   },
   {
    "duration": 4,
    "start_time": "2022-05-11T12:48:56.462Z"
   },
   {
    "duration": 7,
    "start_time": "2022-05-11T12:48:56.468Z"
   },
   {
    "duration": 6,
    "start_time": "2022-05-11T12:48:56.477Z"
   },
   {
    "duration": 6,
    "start_time": "2022-05-11T12:48:56.485Z"
   },
   {
    "duration": 8,
    "start_time": "2022-05-11T12:48:56.493Z"
   },
   {
    "duration": 13,
    "start_time": "2022-05-11T12:48:56.503Z"
   },
   {
    "duration": 40,
    "start_time": "2022-05-11T12:48:56.517Z"
   },
   {
    "duration": 89,
    "start_time": "2022-05-11T12:48:56.562Z"
   },
   {
    "duration": 5,
    "start_time": "2022-05-11T12:48:56.652Z"
   },
   {
    "duration": 13,
    "start_time": "2022-05-11T12:48:56.658Z"
   },
   {
    "duration": 17,
    "start_time": "2022-05-11T12:48:56.672Z"
   },
   {
    "duration": 58,
    "start_time": "2022-05-11T12:48:56.691Z"
   }
  ],
  "kernelspec": {
   "display_name": "Python 3",
   "language": "python",
   "name": "python3"
  },
  "language_info": {
   "codemirror_mode": {
    "name": "ipython",
    "version": 3
   },
   "file_extension": ".py",
   "mimetype": "text/x-python",
   "name": "python",
   "nbconvert_exporter": "python",
   "pygments_lexer": "ipython3",
   "version": "3.9.1"
  },
  "toc": {
   "base_numbering": 1,
   "nav_menu": {},
   "number_sections": true,
   "sideBar": true,
   "skip_h1_title": true,
   "title_cell": "Содержание",
   "title_sidebar": "Contents",
   "toc_cell": true,
   "toc_position": {},
   "toc_section_display": true,
   "toc_window_display": true
  }
 },
 "nbformat": 4,
 "nbformat_minor": 2
}
